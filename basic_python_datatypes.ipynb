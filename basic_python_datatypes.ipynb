{
 "cells": [
  {
   "attachments": {},
   "cell_type": "markdown",
   "metadata": {},
   "source": [
    "# Variable Assigment"
   ]
  },
  {
   "cell_type": "code",
   "execution_count": 36,
   "metadata": {},
   "outputs": [],
   "source": [
    "x = 5   #This is an integer"
   ]
  },
  {
   "cell_type": "code",
   "execution_count": 37,
   "metadata": {},
   "outputs": [
    {
     "data": {
      "text/plain": [
       "5"
      ]
     },
     "execution_count": 37,
     "metadata": {},
     "output_type": "execute_result"
    }
   ],
   "source": [
    "x"
   ]
  },
  {
   "attachments": {},
   "cell_type": "markdown",
   "metadata": {},
   "source": [
    "# Hello this is Markdown\n",
    "## This is Header 2\n",
    "### This is Header 3\n",
    "\n",
    "Regular Text\n",
    "\n",
    "**Bold Text**\n",
    "\n",
    "**Italic**\n",
    "\n",
    "This is how you bullet\n",
    "\n",
    "* Hello\n",
    "* hi\n",
    "* Hullo\n",
    "\n",
    "1. Point\n",
    "2. Point"
   ]
  },
  {
   "attachments": {},
   "cell_type": "markdown",
   "metadata": {},
   "source": [
    "## Integer"
   ]
  },
  {
   "cell_type": "code",
   "execution_count": 38,
   "metadata": {},
   "outputs": [
    {
     "data": {
      "text/plain": [
       "int"
      ]
     },
     "execution_count": 38,
     "metadata": {},
     "output_type": "execute_result"
    }
   ],
   "source": [
    "type(x)"
   ]
  },
  {
   "attachments": {},
   "cell_type": "markdown",
   "metadata": {},
   "source": [
    "## Float"
   ]
  },
  {
   "cell_type": "code",
   "execution_count": 39,
   "metadata": {},
   "outputs": [
    {
     "name": "stdout",
     "output_type": "stream",
     "text": [
      "<class 'float'>\n"
     ]
    },
    {
     "data": {
      "text/plain": [
       "5.0"
      ]
     },
     "execution_count": 39,
     "metadata": {},
     "output_type": "execute_result"
    }
   ],
   "source": [
    "y = 5.0\n",
    "print(type(y))\n",
    "y"
   ]
  },
  {
   "attachments": {},
   "cell_type": "markdown",
   "metadata": {},
   "source": [
    "## String"
   ]
  },
  {
   "cell_type": "code",
   "execution_count": 40,
   "metadata": {},
   "outputs": [
    {
     "data": {
      "text/plain": [
       "'Multiline qoute\\nfff\\nfff\\nf\\nf\\nf\\n'"
      ]
     },
     "execution_count": 40,
     "metadata": {},
     "output_type": "execute_result"
    }
   ],
   "source": [
    "z = \"Goodbye Hello\" \n",
    "z = 'Goodbyee Hello'\n",
    "z = \"\"\"Multiline qoute\n",
    "fff\n",
    "fff\n",
    "f\n",
    "f\n",
    "f\n",
    "\"\"\"\n",
    "z"
   ]
  },
  {
   "cell_type": "code",
   "execution_count": 48,
   "metadata": {},
   "outputs": [
    {
     "name": "stdout",
     "output_type": "stream",
     "text": [
      "\"I thinke, therefore I am\" - Rene Descartes\n",
      "\"I think, therefore I am\" - Rene Descartes\n",
      "\"I think, there\n",
      "fore I am\" - Rene Descartes\n"
     ]
    }
   ],
   "source": [
    "qoute = \"\\\"I think, therefore I am\\\" - Rene Descartes\"\n",
    "qoute1 = '\"I thinke, therefore I am\" - Rene Descartes'\n",
    "qoute2 = \"\\\"I think, there\\nfore I am\\\" - Rene Descartes\"\n",
    "print(qoute1)\n",
    "print(qoute)\n",
    "print(qoute2)\n"
   ]
  },
  {
   "cell_type": "code",
   "execution_count": 47,
   "metadata": {},
   "outputs": [
    {
     "name": "stdout",
     "output_type": "stream",
     "text": [
      "how do you print a \\\n"
     ]
    }
   ],
   "source": [
    "backlash = \"how do you print a \\\\\"\n",
    "print(backlash)"
   ]
  },
  {
   "cell_type": "code",
   "execution_count": 51,
   "metadata": {},
   "outputs": [
    {
     "name": "stdout",
     "output_type": "stream",
     "text": [
      "long_string_her\n",
      "_here_it_is\n"
     ]
    }
   ],
   "source": [
    "long_string = \"long_string_here_it_is\"\n",
    "print(long_string[:15])\n",
    "print(long_string[11:])\n",
    "#This is called slicing and is used a lot with lists.\n",
    "#This could be used when you have table and only want first 3 charachters from that table."
   ]
  },
  {
   "attachments": {},
   "cell_type": "markdown",
   "metadata": {},
   "source": [
    "## Boolean"
   ]
  },
  {
   "cell_type": "code",
   "execution_count": 52,
   "metadata": {},
   "outputs": [
    {
     "data": {
      "text/plain": [
       "True"
      ]
     },
     "execution_count": 52,
     "metadata": {},
     "output_type": "execute_result"
    }
   ],
   "source": [
    "boolean = True\n",
    "another_boolean = False\n",
    "not_a_boolean = 'True'\n",
    "\n",
    "a = 1\n",
    "b = 1\n",
    "\n",
    "a == b"
   ]
  },
  {
   "attachments": {},
   "cell_type": "markdown",
   "metadata": {},
   "source": [
    "## Non-Primitive Data Types"
   ]
  },
  {
   "cell_type": "code",
   "execution_count": 63,
   "metadata": {},
   "outputs": [
    {
     "data": {
      "text/plain": [
       "[1, 2, 3, 4, 5, 6, 7, 'asdf']"
      ]
     },
     "execution_count": 63,
     "metadata": {},
     "output_type": "execute_result"
    }
   ],
   "source": [
    "a_list = [1, 2, 3, 4, 5, 6, 7, \"asdf\"]\n",
    "a_list"
   ]
  },
  {
   "cell_type": "code",
   "execution_count": 66,
   "metadata": {},
   "outputs": [
    {
     "data": {
      "text/plain": [
       "['asdf', 6, 4, 2]"
      ]
     },
     "execution_count": 66,
     "metadata": {},
     "output_type": "execute_result"
    }
   ],
   "source": [
    "a_list[::-2]"
   ]
  },
  {
   "cell_type": "code",
   "execution_count": 67,
   "metadata": {},
   "outputs": [
    {
     "data": {
      "text/plain": [
       "(1, 2, 3, 4, 5)"
      ]
     },
     "execution_count": 67,
     "metadata": {},
     "output_type": "execute_result"
    }
   ],
   "source": [
    "a_tuple = (1,2,3,4,5)\n",
    "a_tuple"
   ]
  },
  {
   "cell_type": "code",
   "execution_count": 68,
   "metadata": {},
   "outputs": [
    {
     "data": {
      "text/plain": [
       "(5, 4, 3, 2, 1)"
      ]
     },
     "execution_count": 68,
     "metadata": {},
     "output_type": "execute_result"
    }
   ],
   "source": [
    "a_tuple[::-1]"
   ]
  },
  {
   "cell_type": "code",
   "execution_count": 77,
   "metadata": {},
   "outputs": [
    {
     "data": {
      "text/plain": [
       "'value'"
      ]
     },
     "execution_count": 77,
     "metadata": {},
     "output_type": "execute_result"
    }
   ],
   "source": [
    "dictionary = {\"key\":\"value\", \"another\":\"value\"}\n",
    "dictionary[\"key\"]\n",
    "dictionary.get (\"key\")"
   ]
  },
  {
   "cell_type": "code",
   "execution_count": 78,
   "metadata": {},
   "outputs": [
    {
     "data": {
      "text/plain": [
       "4"
      ]
     },
     "execution_count": 78,
     "metadata": {},
     "output_type": "execute_result"
    }
   ],
   "source": [
    "add = 2 + 2\n",
    "add"
   ]
  },
  {
   "cell_type": "code",
   "execution_count": 79,
   "metadata": {},
   "outputs": [
    {
     "data": {
      "text/plain": [
       "'strstr'"
      ]
     },
     "execution_count": 79,
     "metadata": {},
     "output_type": "execute_result"
    }
   ],
   "source": [
    "add_str = \"str\" + \"str\"\n",
    "add_str"
   ]
  },
  {
   "cell_type": "code",
   "execution_count": 80,
   "metadata": {},
   "outputs": [
    {
     "data": {
      "text/plain": [
       "[1, 2, 3, 4, 1, 2, 3]"
      ]
     },
     "execution_count": 80,
     "metadata": {},
     "output_type": "execute_result"
    }
   ],
   "source": [
    "add_list = [1,2,3,4] + [1,2,3]\n",
    "add_list\n",
    "#You cannot subtrack numbers."
   ]
  },
  {
   "cell_type": "code",
   "execution_count": 81,
   "metadata": {},
   "outputs": [
    {
     "data": {
      "text/plain": [
       "(1, 2, 3, 4, 1, 2, 4)"
      ]
     },
     "execution_count": 81,
     "metadata": {},
     "output_type": "execute_result"
    }
   ],
   "source": [
    "add_tupple = (1,2,3,4) + (1,2,4)\n",
    "add_tupple"
   ]
  },
  {
   "cell_type": "code",
   "execution_count": 82,
   "metadata": {},
   "outputs": [
    {
     "data": {
      "text/plain": [
       "6"
      ]
     },
     "execution_count": 82,
     "metadata": {},
     "output_type": "execute_result"
    }
   ],
   "source": [
    "mult = 3 * 2\n",
    "mult"
   ]
  },
  {
   "cell_type": "code",
   "execution_count": 83,
   "metadata": {},
   "outputs": [
    {
     "data": {
      "text/plain": [
       "'strstrstr'"
      ]
     },
     "execution_count": 83,
     "metadata": {},
     "output_type": "execute_result"
    }
   ],
   "source": [
    "mult = \"str\" * 3\n",
    "mult"
   ]
  },
  {
   "cell_type": "code",
   "execution_count": 84,
   "metadata": {},
   "outputs": [
    {
     "data": {
      "text/plain": [
       "[1, 2, 3, 1, 2, 3, 1, 2, 3]"
      ]
     },
     "execution_count": 84,
     "metadata": {},
     "output_type": "execute_result"
    }
   ],
   "source": [
    "mult_list = [1,2,3] * 3\n",
    "mult_list"
   ]
  },
  {
   "cell_type": "code",
   "execution_count": 86,
   "metadata": {},
   "outputs": [
    {
     "data": {
      "text/plain": [
       "1.0"
      ]
     },
     "execution_count": 86,
     "metadata": {},
     "output_type": "execute_result"
    }
   ],
   "source": [
    "div = 2/2\n",
    "div"
   ]
  },
  {
   "cell_type": "code",
   "execution_count": 87,
   "metadata": {},
   "outputs": [
    {
     "ename": "ZeroDivisionError",
     "evalue": "division by zero",
     "output_type": "error",
     "traceback": [
      "\u001b[1;31m---------------------------------------------------------------------------\u001b[0m",
      "\u001b[1;31mZeroDivisionError\u001b[0m                         Traceback (most recent call last)",
      "Cell \u001b[1;32mIn[87], line 1\u001b[0m\n\u001b[1;32m----> 1\u001b[0m zero_div \u001b[39m=\u001b[39m \u001b[39m3\u001b[39;49m\u001b[39m/\u001b[39;49m\u001b[39m0\u001b[39;49m\n\u001b[0;32m      2\u001b[0m zero_div\n",
      "\u001b[1;31mZeroDivisionError\u001b[0m: division by zero"
     ]
    }
   ],
   "source": [
    "zero_div = 3/0\n",
    "zero_div"
   ]
  },
  {
   "cell_type": "code",
   "execution_count": 88,
   "metadata": {},
   "outputs": [
    {
     "data": {
      "text/plain": [
       "1"
      ]
     },
     "execution_count": 88,
     "metadata": {},
     "output_type": "execute_result"
    }
   ],
   "source": [
    "modulo = 10%3\n",
    "modulo"
   ]
  },
  {
   "cell_type": "code",
   "execution_count": 89,
   "metadata": {},
   "outputs": [
    {
     "data": {
      "text/plain": [
       "3"
      ]
     },
     "execution_count": 89,
     "metadata": {},
     "output_type": "execute_result"
    }
   ],
   "source": [
    "floor_divison = 7//2\n",
    "floor_divison"
   ]
  },
  {
   "cell_type": "code",
   "execution_count": 90,
   "metadata": {},
   "outputs": [
    {
     "name": "stdout",
     "output_type": "stream",
     "text": [
      "True\n",
      "True\n",
      "False\n",
      "True\n",
      "True\n",
      "True\n"
     ]
    }
   ],
   "source": [
    "print(3 == 3) # Equals\n",
    "\n",
    "print(3 != 4) # Does not equal\n",
    "\n",
    "print(3 > 4) # Greater than\n",
    "\n",
    "print(3 < 5) # Less than\n",
    "\n",
    "print(2 >= 2) # Greater than or equal to\n",
    "\n",
    "print(4 <= 4) # Less than or equal to"
   ]
  },
  {
   "cell_type": "code",
   "execution_count": 91,
   "metadata": {},
   "outputs": [
    {
     "data": {
      "text/plain": [
       "False"
      ]
     },
     "execution_count": 91,
     "metadata": {},
     "output_type": "execute_result"
    }
   ],
   "source": [
    "3 == 3 and 2 <= 5 # Returns true if both operations are true\n",
    "3 == 3 or 2 <= 1 # Returns true if one operation is true\n",
    "not(3 == 3 and 2 <= 5) # Returns the opposite (False in this case)"
   ]
  },
  {
   "cell_type": "code",
   "execution_count": 92,
   "metadata": {},
   "outputs": [
    {
     "data": {
      "text/plain": [
       "True"
      ]
     },
     "execution_count": 92,
     "metadata": {},
     "output_type": "execute_result"
    }
   ],
   "source": [
    "\"z\" not in [\"a\", 123, 14, 41, 41, 4]"
   ]
  },
  {
   "cell_type": "code",
   "execution_count": 93,
   "metadata": {},
   "outputs": [
    {
     "data": {
      "text/plain": [
       "True"
      ]
     },
     "execution_count": 93,
     "metadata": {},
     "output_type": "execute_result"
    }
   ],
   "source": [
    "\"T\" in \"TRDFSADFASD\"\n"
   ]
  },
  {
   "cell_type": "code",
   "execution_count": 94,
   "metadata": {},
   "outputs": [
    {
     "data": {
      "text/plain": [
       "False"
      ]
     },
     "execution_count": 94,
     "metadata": {},
     "output_type": "execute_result"
    }
   ],
   "source": [
    "\"1\" in \"TRDFSADFASD\"\n"
   ]
  },
  {
   "cell_type": "code",
   "execution_count": 95,
   "metadata": {},
   "outputs": [
    {
     "data": {
      "text/plain": [
       "5"
      ]
     },
     "execution_count": 95,
     "metadata": {},
     "output_type": "execute_result"
    }
   ],
   "source": [
    "int(5.0)"
   ]
  },
  {
   "cell_type": "code",
   "execution_count": 96,
   "metadata": {},
   "outputs": [
    {
     "data": {
      "text/plain": [
       "21.0"
      ]
     },
     "execution_count": 96,
     "metadata": {},
     "output_type": "execute_result"
    }
   ],
   "source": [
    "float(21)"
   ]
  },
  {
   "cell_type": "code",
   "execution_count": 97,
   "metadata": {},
   "outputs": [],
   "source": [
    "def our_function(x,y,z):\n",
    "    return x + y + z"
   ]
  },
  {
   "cell_type": "code",
   "execution_count": 99,
   "metadata": {},
   "outputs": [
    {
     "data": {
      "text/plain": [
       "67"
      ]
     },
     "execution_count": 99,
     "metadata": {},
     "output_type": "execute_result"
    }
   ],
   "source": [
    "our_function(6,8,53)\n"
   ]
  },
  {
   "cell_type": "code",
   "execution_count": 110,
   "metadata": {},
   "outputs": [
    {
     "data": {
      "text/plain": [
       "6"
      ]
     },
     "execution_count": 110,
     "metadata": {},
     "output_type": "execute_result"
    }
   ],
   "source": [
    "our_function(1,y=2,z=3)"
   ]
  },
  {
   "cell_type": "code",
   "execution_count": 4,
   "metadata": {},
   "outputs": [],
   "source": [
    "import numpy as np"
   ]
  },
  {
   "cell_type": "code",
   "execution_count": 7,
   "metadata": {},
   "outputs": [
    {
     "data": {
      "text/plain": [
       "array([1, 2, 4])"
      ]
     },
     "execution_count": 7,
     "metadata": {},
     "output_type": "execute_result"
    }
   ],
   "source": [
    "np.array([1,2,4])"
   ]
  },
  {
   "cell_type": "code",
   "execution_count": 14,
   "metadata": {},
   "outputs": [
    {
     "name": "stdout",
     "output_type": "stream",
     "text": [
      "i is now 3\n",
      "output is 4\n",
      "i is now 4\n",
      "output is 5\n",
      "i is now 5\n",
      "output is 6\n",
      "i is now 6\n",
      "output is 7\n",
      "i is now 7\n",
      "output is 8\n",
      "i is now 8\n",
      "output is 9\n",
      "i is now 9\n",
      "output is 10\n",
      "i is now 10\n",
      "output is 11\n",
      "i is now 11\n",
      "output is 12\n",
      "i is now 12\n",
      "output is 13\n",
      "i is now 13\n",
      "output is 14\n",
      "i is now 14\n",
      "output is 15\n",
      "i is now 15\n",
      "output is 16\n",
      "i is now 16\n",
      "output is 17\n",
      "i is now 17\n",
      "output is 18\n",
      "i is now 18\n",
      "output is 19\n",
      "i is now 19\n",
      "output is 20\n",
      "i is now 20\n",
      "output is 21\n",
      "i is now 21\n",
      "output is 22\n",
      "i is now 22\n",
      "output is 23\n",
      "i is now 23\n",
      "output is 24\n",
      "i is now 24\n",
      "output is 25\n",
      "i is now 25\n",
      "output is 26\n",
      "i is now 26\n",
      "output is 27\n",
      "i is now 27\n",
      "output is 28\n",
      "i is now 28\n",
      "output is 29\n",
      "i is now 29\n",
      "output is 30\n",
      "i is now 30\n",
      "output is 31\n",
      "i is now 31\n",
      "output is 32\n",
      "i is now 32\n",
      "output is 33\n",
      "i is now 33\n",
      "output is 34\n",
      "i is now 34\n",
      "output is 35\n",
      "i is now 35\n",
      "output is 36\n",
      "i is now 36\n",
      "output is 37\n",
      "i is now 37\n",
      "output is 38\n",
      "i is now 38\n",
      "output is 39\n",
      "i is now 39\n",
      "output is 40\n",
      "i is now 40\n",
      "output is 41\n",
      "i is now 41\n",
      "output is 42\n",
      "i is now 42\n",
      "output is 43\n",
      "i is now 43\n",
      "output is 44\n",
      "i is now 44\n",
      "output is 45\n",
      "i is now 45\n",
      "output is 46\n",
      "i is now 46\n",
      "output is 47\n",
      "i is now 47\n",
      "output is 48\n",
      "i is now 48\n",
      "output is 49\n",
      "i is now 49\n",
      "output is 50\n",
      "i is now 50\n",
      "output is 51\n",
      "i is now 51\n",
      "output is 52\n",
      "i is now 52\n",
      "output is 53\n",
      "i is now 53\n",
      "output is 54\n",
      "i is now 54\n",
      "output is 55\n",
      "i is now 55\n",
      "output is 56\n",
      "i is now 56\n",
      "output is 57\n",
      "i is now 57\n",
      "output is 58\n",
      "i is now 58\n",
      "output is 59\n",
      "i is now 59\n",
      "output is 60\n",
      "i is now 60\n",
      "output is 61\n",
      "i is now 61\n",
      "output is 62\n",
      "i is now 62\n",
      "output is 63\n",
      "i is now 63\n",
      "output is 64\n",
      "i is now 64\n",
      "output is 65\n",
      "i is now 65\n",
      "output is 66\n",
      "i is now 66\n",
      "output is 67\n",
      "i is now 67\n",
      "output is 68\n",
      "i is now 68\n",
      "output is 69\n",
      "i is now 69\n",
      "output is 70\n",
      "i is now 70\n",
      "output is 71\n",
      "i is now 71\n",
      "output is 72\n",
      "i is now 72\n",
      "output is 73\n",
      "i is now 73\n",
      "output is 74\n",
      "i is now 74\n",
      "output is 75\n",
      "i is now 75\n",
      "output is 76\n",
      "i is now 76\n",
      "output is 77\n",
      "i is now 77\n",
      "output is 78\n",
      "i is now 78\n",
      "output is 79\n",
      "i is now 79\n",
      "output is 80\n",
      "i is now 80\n",
      "output is 81\n",
      "i is now 81\n",
      "output is 82\n",
      "i is now 82\n",
      "output is 83\n",
      "i is now 83\n",
      "output is 84\n",
      "i is now 84\n",
      "output is 85\n",
      "i is now 85\n",
      "output is 86\n",
      "i is now 86\n",
      "output is 87\n",
      "i is now 87\n",
      "output is 88\n",
      "i is now 88\n",
      "output is 89\n",
      "i is now 89\n",
      "output is 90\n",
      "i is now 90\n",
      "output is 91\n",
      "i is now 91\n",
      "output is 92\n",
      "i is now 92\n",
      "output is 93\n",
      "i is now 93\n",
      "output is 94\n",
      "i is now 94\n",
      "output is 95\n",
      "i is now 95\n",
      "output is 96\n",
      "i is now 96\n",
      "output is 97\n",
      "i is now 97\n",
      "output is 98\n",
      "i is now 98\n",
      "output is 99\n",
      "i is now 99\n",
      "output is 100\n",
      "Loop has ended\n"
     ]
    }
   ],
   "source": [
    "the_list = range(3,100)\n",
    "for i in the_list:\n",
    "    print(\"i is now\", i)\n",
    "    i+= 1\n",
    "    print(\"output is\", i)\n",
    "print(\"Loop has ended\")"
   ]
  },
  {
   "attachments": {},
   "cell_type": "markdown",
   "metadata": {},
   "source": [
    "for loop: very useful, if it doesn't make sense just break it down and go over a couple of times. to read files from a directory, a simple way to handle all kind of tasks\n",
    "in python. "
   ]
  },
  {
   "cell_type": "code",
   "execution_count": 15,
   "metadata": {},
   "outputs": [
    {
     "name": "stdout",
     "output_type": "stream",
     "text": [
      "1\n",
      "2\n",
      "3\n",
      "4\n",
      "5\n"
     ]
    }
   ],
   "source": [
    "x = 0\n",
    "while x < 5:\n",
    "    x += 1\n",
    "    print(x)\n"
   ]
  },
  {
   "cell_type": "code",
   "execution_count": 17,
   "metadata": {},
   "outputs": [
    {
     "name": "stdout",
     "output_type": "stream",
     "text": [
      "x is greater than y\n"
     ]
    }
   ],
   "source": [
    "x = 7\n",
    "y = 5\n",
    "\n",
    "if x == y:\n",
    "    print(\"x equals y\")\n",
    "elif x > y:\n",
    "    print(\"x is greater than y\")\n",
    "else: \n",
    "    print(\"x is less than y\")"
   ]
  },
  {
   "cell_type": "code",
   "execution_count": 18,
   "metadata": {},
   "outputs": [
    {
     "data": {
      "text/plain": [
       "0.3333333333333333"
      ]
     },
     "execution_count": 18,
     "metadata": {},
     "output_type": "execute_result"
    }
   ],
   "source": [
    "2/6"
   ]
  },
  {
   "cell_type": "code",
   "execution_count": 19,
   "metadata": {},
   "outputs": [
    {
     "ename": "ZeroDivisionError",
     "evalue": "division by zero",
     "output_type": "error",
     "traceback": [
      "\u001b[1;31m---------------------------------------------------------------------------\u001b[0m",
      "\u001b[1;31mZeroDivisionError\u001b[0m                         Traceback (most recent call last)",
      "Cell \u001b[1;32mIn[19], line 1\u001b[0m\n\u001b[1;32m----> 1\u001b[0m \u001b[39m2\u001b[39;49m\u001b[39m/\u001b[39;49m\u001b[39m0\u001b[39;49m\n",
      "\u001b[1;31mZeroDivisionError\u001b[0m: division by zero"
     ]
    }
   ],
   "source": [
    "2/0"
   ]
  },
  {
   "cell_type": "code",
   "execution_count": 20,
   "metadata": {},
   "outputs": [
    {
     "name": "stdout",
     "output_type": "stream",
     "text": [
      "Can't divide by 0\n"
     ]
    }
   ],
   "source": [
    "try: 2/0\n",
    "except ZeroDivisionError:\n",
    "    print(\"Can't divide by 0\")"
   ]
  },
  {
   "cell_type": "code",
   "execution_count": null,
   "metadata": {},
   "outputs": [],
   "source": []
  }
 ],
 "metadata": {
  "kernelspec": {
   "display_name": "base",
   "language": "python",
   "name": "python3"
  },
  "language_info": {
   "codemirror_mode": {
    "name": "ipython",
    "version": 3
   },
   "file_extension": ".py",
   "mimetype": "text/x-python",
   "name": "python",
   "nbconvert_exporter": "python",
   "pygments_lexer": "ipython3",
   "version": "3.10.8"
  },
  "orig_nbformat": 4,
  "vscode": {
   "interpreter": {
    "hash": "1bc17a320af0b96b4e6b8ea693a442b0efdf6207e1aa826ab06177044f4dc164"
   }
  }
 },
 "nbformat": 4,
 "nbformat_minor": 2
}
