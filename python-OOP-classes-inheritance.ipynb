{
 "cells": [
  {
   "cell_type": "code",
   "execution_count": 10,
   "id": "3d2efce1-81a7-4a18-a6a3-c61cea24f5a0",
   "metadata": {
    "tags": []
   },
   "outputs": [],
   "source": [
    "class Circle(object): # define your class\n",
    "    \n",
    "    def __init__(self, radius, color): # data attributes used to initilize each instance of the class\n",
    "        self.radius = radius;       \n",
    "        self.color = color;"
   ]
  },
  {
   "cell_type": "markdown",
   "id": "97b13b51-d5f6-47b6-9484-b011b3e56bab",
   "metadata": {},
   "source": [
    "![title](./Classes.png)"
   ]
  },
  {
   "cell_type": "code",
   "execution_count": 11,
   "id": "4464f49f-a768-475b-ab40-3f704abb62c8",
   "metadata": {
    "tags": []
   },
   "outputs": [],
   "source": [
    "red_circle = Circle(10, \"red\")"
   ]
  },
  {
   "cell_type": "markdown",
   "id": "b5682feb-dcc0-4210-a00f-8e84517b0b42",
   "metadata": {},
   "source": [
    "### Gameplan\n",
    "\n",
    "1. Classes\n",
    "2. Attributes\n",
    "3. Methods\n",
    "4. Class Inheritance"
   ]
  },
  {
   "cell_type": "markdown",
   "id": "64ec46f6-00a7-48af-90e8-41df9539f27f",
   "metadata": {},
   "source": [
    "### Classes"
   ]
  },
  {
   "cell_type": "code",
   "execution_count": 30,
   "id": "e57838ad-8b0b-4d3d-b762-1e01e98e95ca",
   "metadata": {
    "tags": []
   },
   "outputs": [],
   "source": [
    "# Classes as boilerplates for objects\n",
    "class Person():\n",
    "    # the method that runs as soon as you create a class - initialise\n",
    "    def __init__(self, name, age, color):\n",
    "        # Create some attributes for our person class\n",
    "        self.name = name\n",
    "        self.age = age\n",
    "        self.color = color\n",
    "    # Date of birth method\n",
    "    def year_of_birth(self):\n",
    "        return 2023-self.age\n",
    "    #Projected age\n",
    "    def projected_age(self, years=5):\n",
    "        return self.age+years"
   ]
  },
  {
   "cell_type": "code",
   "execution_count": 31,
   "id": "b60d4dcd-d411-49a3-a0ef-bd4a8e56445b",
   "metadata": {
    "tags": []
   },
   "outputs": [],
   "source": [
    "new_person = Person('Princess Diana',38,'blue')"
   ]
  },
  {
   "cell_type": "code",
   "execution_count": 15,
   "id": "a4370adf-2513-438d-8ce0-abf0ebc30d9b",
   "metadata": {
    "tags": []
   },
   "outputs": [
    {
     "data": {
      "text/plain": [
       "'Princess Diana'"
      ]
     },
     "execution_count": 15,
     "metadata": {},
     "output_type": "execute_result"
    }
   ],
   "source": [
    "new_person.name"
   ]
  },
  {
   "cell_type": "code",
   "execution_count": 16,
   "id": "e57225e9-df22-4493-bc44-c5ea0c707fd4",
   "metadata": {
    "tags": []
   },
   "outputs": [
    {
     "data": {
      "text/plain": [
       "'blue'"
      ]
     },
     "execution_count": 16,
     "metadata": {},
     "output_type": "execute_result"
    }
   ],
   "source": [
    "new_person.color"
   ]
  },
  {
   "cell_type": "code",
   "execution_count": 29,
   "id": "b27cc08e-00d8-42d1-8320-7e900de18970",
   "metadata": {
    "tags": []
   },
   "outputs": [
    {
     "data": {
      "text/plain": [
       "1985"
      ]
     },
     "execution_count": 29,
     "metadata": {},
     "output_type": "execute_result"
    }
   ],
   "source": [
    "new_person.year_of_birth()"
   ]
  },
  {
   "cell_type": "code",
   "execution_count": 32,
   "id": "0401bbe5-94b1-432f-ba47-d4ef982ceb43",
   "metadata": {
    "tags": []
   },
   "outputs": [
    {
     "data": {
      "text/plain": [
       "43"
      ]
     },
     "execution_count": 32,
     "metadata": {},
     "output_type": "execute_result"
    }
   ],
   "source": [
    "new_person.projected_age()"
   ]
  },
  {
   "cell_type": "code",
   "execution_count": 33,
   "id": "1c85fed3-9824-478a-8c0e-d7bb504c1411",
   "metadata": {
    "tags": []
   },
   "outputs": [
    {
     "data": {
      "text/plain": [
       "48"
      ]
     },
     "execution_count": 33,
     "metadata": {},
     "output_type": "execute_result"
    }
   ],
   "source": [
    "new_person.projected_age(years=10)"
   ]
  },
  {
   "cell_type": "code",
   "execution_count": 34,
   "id": "e2bc9709-a0e9-43e8-bb52-2aa95afcdf8c",
   "metadata": {
    "tags": []
   },
   "outputs": [],
   "source": [
    "old_person = Person('Maradona',80,'green')"
   ]
  },
  {
   "cell_type": "code",
   "execution_count": 38,
   "id": "92114a94-b27a-49fd-899f-a7db124921b3",
   "metadata": {
    "tags": []
   },
   "outputs": [
    {
     "data": {
      "text/plain": [
       "95"
      ]
     },
     "execution_count": 38,
     "metadata": {},
     "output_type": "execute_result"
    }
   ],
   "source": [
    "old_person.projected_age(years=15)"
   ]
  },
  {
   "cell_type": "code",
   "execution_count": 36,
   "id": "f6a0100b-e9eb-41c9-a987-a0281417b525",
   "metadata": {
    "tags": []
   },
   "outputs": [
    {
     "data": {
      "text/plain": [
       "1943"
      ]
     },
     "execution_count": 36,
     "metadata": {},
     "output_type": "execute_result"
    }
   ],
   "source": [
    "old_person.year_of_birth()"
   ]
  },
  {
   "cell_type": "code",
   "execution_count": 37,
   "id": "93464abb-23ef-4dd1-a6b4-71f70fd7c761",
   "metadata": {
    "tags": []
   },
   "outputs": [
    {
     "data": {
      "text/plain": [
       "80"
      ]
     },
     "execution_count": 37,
     "metadata": {},
     "output_type": "execute_result"
    }
   ],
   "source": [
    "old_person.age"
   ]
  },
  {
   "cell_type": "markdown",
   "id": "7868a900-c10b-47ab-867f-5415535227ac",
   "metadata": {},
   "source": [
    "### Class Inheritance"
   ]
  },
  {
   "cell_type": "markdown",
   "id": "48a6aa9f-e7e1-4f9b-a166-993b9c1352a5",
   "metadata": {
    "tags": []
   },
   "source": [
    "* Parent is the class passing down attributes and methods"
   ]
  },
  {
   "cell_type": "markdown",
   "id": "8e0e8454-f5a0-40ae-ac26-dc4dfbdfdc76",
   "metadata": {
    "tags": []
   },
   "source": [
    "*  Child is the class inheriting methods and attributes"
   ]
  },
  {
   "cell_type": "code",
   "execution_count": 58,
   "id": "d05f34d1-2c7d-47c2-bdd6-c457e8421fba",
   "metadata": {},
   "outputs": [],
   "source": [
    "# Create a child class\n",
    "class Astrounaut(Person):\n",
    "    #Define initlization function\n",
    "    \n",
    "    def __init__(self, name, age, color, mission_length_in_months):\n",
    "        super().__init__(name,age,color)\n",
    "        self.mission_length_in_months = mission_length_in_months\n",
    "    \n",
    "    #Method for calculating age on return\n",
    "    def age_on_return(self):\n",
    "        return self.projected_age(years=int(self.mission_length_in_months/12))        "
   ]
  },
  {
   "cell_type": "code",
   "execution_count": 59,
   "id": "a2f7a14f-7152-4507-9ea3-2ec91d6c8a22",
   "metadata": {
    "tags": []
   },
   "outputs": [],
   "source": [
    "new_astrounat = Astrounaut('Rok',24,'purple',48)"
   ]
  },
  {
   "cell_type": "code",
   "execution_count": 46,
   "id": "f6d51fef-024f-49bd-971e-6992b3a12be7",
   "metadata": {
    "tags": []
   },
   "outputs": [
    {
     "data": {
      "text/plain": [
       "'purple'"
      ]
     },
     "execution_count": 46,
     "metadata": {},
     "output_type": "execute_result"
    }
   ],
   "source": [
    "# Access parent like attribute\n",
    "new_astrounat.color"
   ]
  },
  {
   "cell_type": "code",
   "execution_count": 45,
   "id": "03620c7a-a729-40b4-89e2-8b60ef982a71",
   "metadata": {
    "tags": []
   },
   "outputs": [],
   "source": [
    "# This is useful in data pipelining"
   ]
  },
  {
   "cell_type": "code",
   "execution_count": 47,
   "id": "615f5956-b553-432e-aab4-81366b592655",
   "metadata": {
    "tags": []
   },
   "outputs": [
    {
     "data": {
      "text/plain": [
       "1999"
      ]
     },
     "execution_count": 47,
     "metadata": {},
     "output_type": "execute_result"
    }
   ],
   "source": [
    "new_astrounat.year_of_birth()"
   ]
  },
  {
   "cell_type": "code",
   "execution_count": 61,
   "id": "f0f9b931-646c-4828-8236-a02b70e6ee8d",
   "metadata": {
    "tags": []
   },
   "outputs": [
    {
     "data": {
      "text/plain": [
       "28"
      ]
     },
     "execution_count": 61,
     "metadata": {},
     "output_type": "execute_result"
    }
   ],
   "source": [
    "# Run a method\n",
    "new_astrounat.age_on_return()"
   ]
  }
 ],
 "metadata": {
  "kernelspec": {
   "display_name": "Python 3 (ipykernel)",
   "language": "python",
   "name": "python3"
  },
  "language_info": {
   "codemirror_mode": {
    "name": "ipython",
    "version": 3
   },
   "file_extension": ".py",
   "mimetype": "text/x-python",
   "name": "python",
   "nbconvert_exporter": "python",
   "pygments_lexer": "ipython3",
   "version": "3.10.8"
  }
 },
 "nbformat": 4,
 "nbformat_minor": 5
}
